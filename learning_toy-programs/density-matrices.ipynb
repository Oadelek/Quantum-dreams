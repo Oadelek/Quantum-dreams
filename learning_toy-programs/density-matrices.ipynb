{
 "cells": [
  {
   "cell_type": "code",
   "execution_count": 1,
   "metadata": {},
   "outputs": [
    {
     "name": "stdout",
     "output_type": "stream",
     "text": [
      "Imports loaded.\n"
     ]
    }
   ],
   "source": [
    "# Required imports for code cells\n",
    "\n",
    "from qiskit.quantum_info import Statevector, Operator, DensityMatrix\n",
    "from qiskit.visualization import array_to_latex\n",
    "import numpy as np\n",
    "from numpy import linalg\n",
    "\n",
    "print('Imports loaded.')"
   ]
  },
  {
   "cell_type": "code",
   "execution_count": 5,
   "metadata": {},
   "outputs": [
    {
     "data": {
      "text/latex": [
       "$$\n",
       "\n",
       "\\begin{bmatrix}\n",
       "353 & -192 + 65 i & 85 + 8 i  \\\\\n",
       " -192 - 65 i & 151 & -78 - 34 i  \\\\\n",
       " 85 - 8 i & -78 + 34 i & 124  \\\\\n",
       " \\end{bmatrix}\n",
       "$$"
      ],
      "text/plain": [
       "<IPython.core.display.Latex object>"
      ]
     },
     "metadata": {},
     "output_type": "display_data"
    }
   ],
   "source": [
    "# Randomly generate a positive semidefinite matrix\n",
    "\n",
    "n = 3\n",
    "M = np.random.randint(-9, 10, size=(n, n)) + 1j * np.random.randint(-9, 10, size=(n, n))\n",
    "P = M.conj().T @ M\n",
    "\n",
    "display(array_to_latex(P))"
   ]
  },
  {
   "cell_type": "code",
   "execution_count": 6,
   "metadata": {},
   "outputs": [
    {
     "data": {
      "text/latex": [
       "$$\n",
       "\n",
       "\\begin{bmatrix}\n",
       "513.9441665704 & 98.1316092409 & 15.9242241887  \\\\\n",
       " \\end{bmatrix}\n",
       "$$"
      ],
      "text/plain": [
       "<IPython.core.display.Latex object>"
      ]
     },
     "metadata": {},
     "output_type": "display_data"
    }
   ],
   "source": [
    "# Compute the eigenvalues (in decreasing order)\n",
    "\n",
    "display(array_to_latex(np.sort(linalg.eigvals(P))[::-1]))"
   ]
  },
  {
   "cell_type": "code",
   "execution_count": 7,
   "metadata": {},
   "outputs": [
    {
     "data": {
      "text/latex": [
       "$$\n",
       "\n",
       "\\begin{bmatrix}\n",
       "0.2869955157 & -0.1771300448 - 0.0896860987 i & 0.1771300448 + 0.0493273543 i  \\\\\n",
       " -0.1771300448 + 0.0896860987 i & 0.3071748879 & -0.0829596413 + 0.100896861 i  \\\\\n",
       " 0.1771300448 - 0.0493273543 i & -0.0829596413 - 0.100896861 i & 0.4058295964  \\\\\n",
       " \\end{bmatrix}\n",
       "$$"
      ],
      "text/plain": [
       "<IPython.core.display.Latex object>"
      ]
     },
     "metadata": {},
     "output_type": "display_data"
    }
   ],
   "source": [
    "# Randomly generate a density matrix\n",
    "\n",
    "n = 3\n",
    "M = np.random.randint(-9, 10, size=(n, n)) + 1j * np.random.randint(-9, 10, size=(n, n))\n",
    "P = M.conj().T @ M\n",
    "rho = P/np.trace(P)\n",
    "\n",
    "display(array_to_latex(rho))"
   ]
  },
  {
   "cell_type": "code",
   "execution_count": 8,
   "metadata": {},
   "outputs": [
    {
     "data": {
      "text/latex": [
       "$$\n",
       "\n",
       "\\begin{bmatrix}\n",
       "0.6695390724 & 0.2629915348 & 0.0674693928  \\\\\n",
       " \\end{bmatrix}\n",
       "$$"
      ],
      "text/plain": [
       "<IPython.core.display.Latex object>"
      ]
     },
     "metadata": {},
     "output_type": "display_data"
    }
   ],
   "source": [
    "# Compute the eigenvalues (in decreasing order)\n",
    "\n",
    "display(array_to_latex(np.sort(linalg.eigvals(rho))[::-1]))"
   ]
  },
  {
   "cell_type": "code",
   "execution_count": 9,
   "metadata": {},
   "outputs": [
    {
     "data": {
      "text/latex": [
       "$$\n",
       "\n",
       "\\begin{bmatrix}\n",
       "\\frac{3}{4} & \\frac{i}{8}  \\\\\n",
       " - \\frac{i}{8} & \\frac{1}{4}  \\\\\n",
       " \\end{bmatrix}\n",
       "$$"
      ],
      "text/plain": [
       "<IPython.core.display.Latex object>"
      ]
     },
     "metadata": {},
     "output_type": "display_data"
    }
   ],
   "source": [
    "# Initialize and display a density matrix\n",
    "# using the DensityMatrix package\n",
    "\n",
    "rho = DensityMatrix([[3/4, 1j/8],[-1j/8,1/4]])\n",
    "display(rho.draw('latex'))"
   ]
  },
  {
   "cell_type": "code",
   "execution_count": null,
   "metadata": {},
   "outputs": [],
   "source": []
  }
 ],
 "metadata": {
  "kernelspec": {
   "display_name": "Python 3",
   "language": "python",
   "name": "python3"
  },
  "language_info": {
   "codemirror_mode": {
    "name": "ipython",
    "version": 3
   },
   "file_extension": ".py",
   "mimetype": "text/x-python",
   "name": "python",
   "nbconvert_exporter": "python",
   "pygments_lexer": "ipython3",
   "version": "3.11.0"
  }
 },
 "nbformat": 4,
 "nbformat_minor": 2
}
