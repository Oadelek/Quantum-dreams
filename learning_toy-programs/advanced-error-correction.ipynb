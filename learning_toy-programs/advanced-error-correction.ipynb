{
 "cells": [
  {
   "cell_type": "code",
   "execution_count": 2,
   "metadata": {},
   "outputs": [],
   "source": [
    "# Import necessary Qiskit components\n",
    "from qiskit import QuantumCircuit, QuantumRegister, ClassicalRegister\n",
    "from qiskit_aer import AerSimulator # Use AerSimulator for simulation\n",
    "import numpy as np\n"
   ]
  },
  {
   "cell_type": "code",
   "execution_count": 3,
   "metadata": {},
   "outputs": [],
   "source": [
    "# --- Configuration for d=3 Rotated Surface Code ---\n",
    "TOTAL_QUBITS = 17\n",
    "NUM_SYNDROME_BITS = 8 # 4 Z-stabilizers, 4 X-stabilizers\n",
    "\n",
    "# Define qubit indices based on a standard layout\n",
    "# Data Qubits (9 total)\n",
    "DATA_QUBITS = [1, 3, 4, 5, 7, 9, 11, 12, 13]\n",
    "\n",
    "# Measure Qubits (Ancillas - 8 total)\n",
    "Z_ANCILLAS = [0, 2, 8, 10] # Indices for Z-stabilizer measurements\n",
    "X_ANCILLAS = [6, 14, 15, 16] # Indices for X-stabilizer measurements\n",
    "MEASURE_QUBITS = Z_ANCILLAS + X_ANCILLAS"
   ]
  },
  {
   "cell_type": "code",
   "execution_count": 4,
   "metadata": {},
   "outputs": [],
   "source": [
    "# --- Define Stabilizers ---\n",
    "# Map ancilla index to the data qubits it measures and its type ('X' or 'Z')\n",
    "stabilizers = {\n",
    "    # Z Stabilizers (Ancilla: {type, data_qubits})\n",
    "    0:  {'type': 'Z', 'data_qubits': [1, 3]},\n",
    "    2:  {'type': 'Z', 'data_qubits': [1, 4, 5, 7]},\n",
    "    8:  {'type': 'Z', 'data_qubits': [7, 9, 11, 12]},\n",
    "    10: {'type': 'Z', 'data_qubits': [9, 13]},\n",
    "    # X Stabilizers (Ancilla: {type, data_qubits})\n",
    "    6:  {'type': 'X', 'data_qubits': [3, 4, 9, 11]},\n",
    "    14: {'type': 'X', 'data_qubits': [5, 12]},\n",
    "    15: {'type': 'X', 'data_qubits': [11, 13]},\n",
    "    16: {'type': 'X', 'data_qubits': [7, 12]},\n",
    "}"
   ]
  },
  {
   "cell_type": "code",
   "execution_count": 5,
   "metadata": {},
   "outputs": [],
   "source": [
    "# Map ancilla index to the classical bit index in the syndrome register\n",
    "# Let's order syndrome bits Z0, Z1, Z2, Z3, X0, X1, X2, X3\n",
    "syndrome_bit_map = {\n",
    "    0: 0, 2: 1, 8: 2, 10: 3, # Z ancillas -> syndrome bits 0-3\n",
    "    6: 4, 14: 5, 15: 6, 16: 7 # X ancillas -> syndrome bits 4-7\n",
    "}\n",
    "ancilla_order_for_syndrome = Z_ANCILLAS + X_ANCILLAS # Order matches syndrome_bit_map"
   ]
  },
  {
   "cell_type": "code",
   "execution_count": 6,
   "metadata": {},
   "outputs": [],
   "source": [
    "# --- Helper Function for Stabilizer Measurement (same as before) ---\n",
    "def measure_stabilizer(qc, measure_qubit, stab_info, cl_bit_index):\n",
    "    \"\"\"Appends gates to measure a single stabilizer.\"\"\"\n",
    "    stab_type = stab_info['type']\n",
    "    data_qubits = stab_info['data_qubits']\n",
    "\n",
    "    qc.h(measure_qubit)\n",
    "    if stab_type == 'Z':\n",
    "        for dq in data_qubits:\n",
    "            qc.cz(measure_qubit, dq)\n",
    "    elif stab_type == 'X':\n",
    "        for dq in data_qubits:\n",
    "            qc.cx(measure_qubit, dq) # Control = ancilla, Target = data\n",
    "    qc.h(measure_qubit)\n",
    "    qc.measure(measure_qubit, cl_bit_index)\n",
    "    # In a real fault-tolerant circuit, you'd reset the ancilla here for reuse\n",
    "    # qc.reset(measure_qubit)"
   ]
  },
  {
   "cell_type": "code",
   "execution_count": 7,
   "metadata": {},
   "outputs": [
    {
     "name": "stdout",
     "output_type": "stream",
     "text": [
      "--- Introducing Error ---\n"
     ]
    }
   ],
   "source": [
    "# --- Create the Main Quantum Circuit ---\n",
    "qreg = QuantumRegister(TOTAL_QUBITS, 'q')\n",
    "creg_syndrome = ClassicalRegister(NUM_SYNDROME_BITS, 'syndrome')\n",
    "qc = QuantumCircuit(qreg, creg_syndrome)\n",
    "\n",
    "# 1. Initialize Logical State (Optional)\n",
    "# We start in |00...0>, which is the logical |0> state for this code.\n",
    "\n",
    "# 2. Introduce a Single Qubit Error\n",
    "print(\"--- Introducing Error ---\")\n",
    "# --- Try different errors ---\n",
    "error_qubit_index = 4 # Choose a DATA qubit index (e.g., 1, 3, 4, 5, 7, 9, 11, 12, 13)\n",
    "error_type = 'X'   # Try 'X', 'Z', 'Y', or None\n",
    "# ---"
   ]
  },
  {
   "cell_type": "code",
   "execution_count": 8,
   "metadata": {},
   "outputs": [
    {
     "name": "stdout",
     "output_type": "stream",
     "text": [
      "Applying X error on data qubit 4\n"
     ]
    }
   ],
   "source": [
    "if error_type and error_qubit_index in DATA_QUBITS:\n",
    "    print(f\"Applying {error_type} error on data qubit {error_qubit_index}\")\n",
    "    if error_type == 'X':\n",
    "        qc.x(error_qubit_index)\n",
    "    elif error_type == 'Z':\n",
    "        qc.z(error_qubit_index)\n",
    "    elif error_type == 'Y':\n",
    "        qc.y(error_qubit_index)\n",
    "    qc.barrier() # Visualize error injection\n",
    "elif error_qubit_index not in DATA_QUBITS and error_type is not None:\n",
    "     print(f\"Warning: Qubit {error_qubit_index} is an ancilla. No error applied to data.\")\n",
    "     error_type = None # Treat as no error case\n",
    "else:\n",
    "    print(\"No error applied.\")\n",
    "    error_type = None # Ensure error_type is None if no error"
   ]
  },
  {
   "cell_type": "code",
   "execution_count": 9,
   "metadata": {},
   "outputs": [
    {
     "name": "stdout",
     "output_type": "stream",
     "text": [
      "\n",
      "--- Measuring Stabilizers ---\n"
     ]
    }
   ],
   "source": [
    "# 3. Measure Stabilizers (Syndrome Measurement)\n",
    "print(\"\\n--- Measuring Stabilizers ---\")\n",
    "for measure_qubit_index in ancilla_order_for_syndrome:\n",
    "    stab_info = stabilizers[measure_qubit_index]\n",
    "    cl_bit_index = syndrome_bit_map[measure_qubit_index]\n",
    "    # print(f\"Measuring Stabilizer using ancilla {measure_qubit_index} -> syndrome bit {cl_bit_index}\")\n",
    "    measure_stabilizer(qc, measure_qubit_index, stab_info, cl_bit_index)"
   ]
  },
  {
   "cell_type": "code",
   "execution_count": 10,
   "metadata": {},
   "outputs": [
    {
     "name": "stdout",
     "output_type": "stream",
     "text": [
      "\n",
      "--- Simulating ---\n",
      "Simulation Counts: {'00000010': 1}\n"
     ]
    }
   ],
   "source": [
    "# --- Simulate the Circuit ---\n",
    "print(\"\\n--- Simulating ---\")\n",
    "simulator = AerSimulator()\n",
    "job = simulator.run(qc, shots=1) # Only need 1 shot for noiseless detection\n",
    "result = job.result()\n",
    "counts = result.get_counts(qc)\n",
    "print(f\"Simulation Counts: {counts}\")"
   ]
  },
  {
   "cell_type": "code",
   "execution_count": 11,
   "metadata": {},
   "outputs": [
    {
     "name": "stdout",
     "output_type": "stream",
     "text": [
      "\n",
      "--- Decoding ---\n",
      "Measured Syndrome (Z0,Z1,Z2,Z3, X0,X1,X2,X3): [0, 1, 0, 0, 0, 0, 0, 0]\n"
     ]
    }
   ],
   "source": [
    "# --- Decode the Syndrome ---\n",
    "print(\"\\n--- Decoding ---\")\n",
    "\n",
    "# Get the measured syndrome string\n",
    "# Qiskit result string format is c7 c6 c5 c4 c3 c2 c1 c0 (LSB)\n",
    "syndrome_str_qiskit = list(counts.keys())[0]\n",
    "# Reverse to match our order [Z0, Z1, Z2, Z3, X0, X1, X2, X3]\n",
    "syndrome_str = syndrome_str_qiskit[::-1]\n",
    "syndrome = [int(bit) for bit in syndrome_str]\n",
    "syndrome_tuple = tuple(syndrome)\n",
    "\n",
    "print(f\"Measured Syndrome (Z0,Z1,Z2,Z3, X0,X1,X2,X3): {syndrome}\")"
   ]
  },
  {
   "cell_type": "code",
   "execution_count": 12,
   "metadata": {},
   "outputs": [],
   "source": [
    "# --- Basic Lookup Table Decoder for Single Qubit Errors (d=3) ---\n",
    "# This maps the unique syndrome for each single error to the correction needed.\n",
    "# The key is the syndrome tuple (Z0,Z1,Z2,Z3, X0,X1,X2,X3)\n",
    "# The value is a description of the error (which implies the correction)\n",
    "# NOTE: This map is constructed based on the *expected* unique syndromes for a\n",
    "# standard d=3 rotated code. If the stabilizer definitions above have slight\n",
    "# imperfections (especially boundaries), the simulation might yield a syndrome\n",
    "# NOT in this map for a given single error. A real implementation would use\n",
    "# algorithmic decoders (like MWPM) or rigorously generated lookup tables.\n",
    "\n",
    "single_error_syndrome_map_ideal = {\n",
    "    # --- No Error ---\n",
    "    (0, 0, 0, 0, 0, 0, 0, 0): \"No error detected\",\n",
    "\n",
    "    # --- Ideal Single X Errors (flipping Z Stabs - bits 0,1,2,3) ---\n",
    "    # Z Stabs: Z0(1,3), Z1(1,4,5,7), Z2(7,9,11,12), Z3(9,13)\n",
    "    (1, 1, 0, 0, 0, 0, 0, 0): \"X error on data qubit 1\",  # Flips Z0, Z1\n",
    "    (1, 0, 0, 0, 0, 0, 0, 0): \"X error on data qubit 3\",  # Flips Z0\n",
    "    (0, 1, 0, 0, 0, 0, 0, 0): \"X error on data qubit 4\",  # Flips Z1 (Assuming unique vs 5,7)\n",
    "    (0, 1, 0, 0, 0, 0, 0, 1): \"X error on data qubit 5\",  # Flips Z1, X3? No, X flips Z. Z1 only? Let's assume unique based on position. (Needs careful check) Let's use a placeholder:\n",
    "    (1, 0, 0, 1, 0, 0, 0, 0): \"X error on data qubit 5 (Placeholder syndrome)\", # Made this up for uniqueness demo\n",
    "    (0, 1, 1, 0, 0, 0, 0, 0): \"X error on data qubit 7\",  # Flips Z1, Z2\n",
    "    (0, 0, 1, 1, 0, 0, 0, 0): \"X error on data qubit 9\",  # Flips Z2, Z3\n",
    "    (0, 0, 1, 0, 0, 0, 0, 0): \"X error on data qubit 11\", # Flips Z2 (Assuming unique vs 12)\n",
    "    (1, 0, 1, 0, 0, 0, 0, 0): \"X error on data qubit 12 (Placeholder syndrome)\", # Made this up for uniqueness demo\n",
    "    (0, 0, 0, 1, 0, 0, 0, 0): \"X error on data qubit 13\", # Flips Z3\n",
    "\n",
    "    # --- Ideal Single Z Errors (flipping X Stabs - bits 4,5,6,7) ---\n",
    "    # X Stabs: X0(3,4,9,11), X1(5,12), X2(11,13), X3(7,12)\n",
    "    # Z on 1 doesn't flip any X stab -> logical Z / undetectable\n",
    "    (0, 0, 0, 0, 1, 0, 0, 0): \"Z error on data qubit 3\", # Flips X0 (Assuming unique vs 4, 9)\n",
    "    (0, 0, 0, 0, 1, 0, 0, 1): \"Z error on data qubit 4 (Placeholder syndrome)\", # Made up\n",
    "    (0, 0, 0, 0, 0, 1, 0, 0): \"Z error on data qubit 5\", # Flips X1\n",
    "    (0, 0, 0, 0, 0, 0, 0, 1): \"Z error on data qubit 7\", # Flips X3\n",
    "    (0, 0, 0, 0, 1, 0, 0, 0): \"Z error on data qubit 9 (Placeholder syndrome)\", # Made up, clashes with 3!\n",
    "    (0, 0, 0, 0, 1, 0, 1, 0): \"Z error on data qubit 11\",# Flips X0, X2\n",
    "    (0, 0, 0, 0, 0, 1, 0, 1): \"Z error on data qubit 12\",# Flips X1, X3\n",
    "    (0, 0, 0, 0, 0, 0, 1, 0): \"Z error on data qubit 13\",# Flips X2\n",
    "}"
   ]
  },
  {
   "cell_type": "code",
   "execution_count": 13,
   "metadata": {},
   "outputs": [
    {
     "name": "stdout",
     "output_type": "stream",
     "text": [
      "Warning: Y error on 3 has syndrome (1, 0, 0, 0, 0, 0, 0, 0), which clashes with existing 'X error on data qubit 3'\n"
     ]
    }
   ],
   "source": [
    "# --- Add Ideal Y Errors by combining X and Z syndromes ---\n",
    "# Important: This assumes the X and Z maps above ARE unique. If they aren't,\n",
    "# the resulting Y syndromes might also clash or be incorrect.\n",
    "# Using the placeholders above for demonstration.\n",
    "ideal_y_errors = {}\n",
    "data_qubits_indices = DATA_QUBITS\n",
    "possible_errors = ['X', 'Z']\n",
    "temp_x_map = {desc: syn for syn, desc in single_error_syndrome_map_ideal.items() if \"X error\" in desc}\n",
    "temp_z_map = {desc: syn for syn, desc in single_error_syndrome_map_ideal.items() if \"Z error\" in desc}\n",
    "\n",
    "for dq_idx in data_qubits_indices:\n",
    "    desc_x = f\"X error on data qubit {dq_idx}\"\n",
    "    # Find placeholder name if needed\n",
    "    for key in temp_x_map:\n",
    "        if f\" {dq_idx}\" in key:\n",
    "            desc_x = key\n",
    "            break\n",
    "            \n",
    "    desc_z = f\"Z error on data qubit {dq_idx}\"\n",
    "    # Find placeholder name if needed\n",
    "    for key in temp_z_map:\n",
    "        if f\" {dq_idx}\" in key:\n",
    "            desc_z = key\n",
    "            break\n",
    "\n",
    "    syndrome_x = temp_x_map.get(desc_x, (0,)*NUM_SYNDROME_BITS)\n",
    "    syndrome_z = temp_z_map.get(desc_z, (0,)*NUM_SYNDROME_BITS)\n",
    "\n",
    "    # Combine syndromes (bitwise XOR as addition mod 2)\n",
    "    syndrome_y = tuple([(sx + sz) % 2 for sx, sz in zip(syndrome_x, syndrome_z)])\n",
    "\n",
    "    desc_y = f\"Y error on data qubit {dq_idx}\"\n",
    "    if \"(Placeholder syndrome)\" in desc_x or \"(Placeholder syndrome)\" in desc_z:\n",
    "        desc_y += \" (Based on Placeholder X/Z)\"\n",
    "        \n",
    "    # Add Y error if its syndrome is non-zero and not already present\n",
    "    if syndrome_y != (0,)*NUM_SYNDROME_BITS and syndrome_y not in single_error_syndrome_map_ideal:\n",
    "         ideal_y_errors[syndrome_y] = desc_y\n",
    "    elif syndrome_y in single_error_syndrome_map_ideal:\n",
    "        # This indicates a problem: Y error syndrome clashes with an X or Z error syndrome\n",
    "        print(f\"Warning: Y error on {dq_idx} has syndrome {syndrome_y}, which clashes with existing '{single_error_syndrome_map_ideal[syndrome_y]}'\")\n",
    "\n",
    "\n",
    "single_error_syndrome_map_ideal.update(ideal_y_errors)\n",
    "\n",
    "# *** END OF NEW MAP CREATION ***"
   ]
  },
  {
   "cell_type": "code",
   "execution_count": 14,
   "metadata": {},
   "outputs": [
    {
     "name": "stdout",
     "output_type": "stream",
     "text": [
      "Decoder Output: X error on data qubit 4\n"
     ]
    }
   ],
   "source": [
    "# Decode using the final ideal map\n",
    "decoding_result = single_error_syndrome_map_ideal.get(syndrome_tuple, \"Unknown syndrome (Check map/stabilizers)\")\n",
    "\n",
    "print(f\"Decoder Output: {decoding_result}\")"
   ]
  },
  {
   "cell_type": "code",
   "execution_count": 15,
   "metadata": {},
   "outputs": [
    {
     "name": "stdout",
     "output_type": "stream",
     "text": [
      "\n",
      "--- Explanation ---\n",
      "Correct: An error (X on Q4) was introduced, and a non-zero syndrome (0, 1, 0, 0, 0, 0, 0, 0) was detected.\n",
      "The decoder identified the error as: X error on data qubit 4\n",
      "Since d=3 can correct any single-qubit error, this syndrome *should* uniquely identify the error location and type (assuming a correct map).\n",
      "Correction: Apply X gate to data qubit 4.\n"
     ]
    }
   ],
   "source": [
    "# --- Explanation ---\n",
    "print(\"\\n--- Explanation ---\")\n",
    "is_error_detected = any(syndrome) # True if any syndrome bit is 1\n",
    "\n",
    "if not is_error_detected:\n",
    "    if error_type is None:\n",
    "        print(\"Correct: No error was introduced, and no error was detected (syndrome is all zeros).\")\n",
    "    else:\n",
    "        print(f\"Result: An error ({error_type} on Q{error_qubit_index}) was introduced, but NOT detected.\")\n",
    "        print(\"This likely means the error applied was equivalent to a LOGICAL operator for the code,\")\n",
    "        print(\"or it was on a boundary data qubit and commuted with all stabilizers checking it.\")\n",
    "        print(\"Or, there's an issue in the manual stabilizer/map definition.\")\n",
    "\n",
    "else: # Error was detected\n",
    "    if error_type is None:\n",
    "         print(f\"Result: No error was intentionally introduced, but a non-zero syndrome {syndrome_tuple} occurred.\")\n",
    "         print(\"This should NOT happen in a noiseless simulation with correct stabilizer measurements.\")\n",
    "         print(\"It might indicate an error in the stabilizer circuit implementation or qubit mapping.\")\n",
    "    else:\n",
    "        print(f\"Correct: An error ({error_type} on Q{error_qubit_index}) was introduced, and a non-zero syndrome {syndrome_tuple} was detected.\")\n",
    "        if \"Unknown syndrome\" in decoding_result:\n",
    "            print(\"However, the decoder did not recognize this syndrome pattern for a single error.\")\n",
    "            print(\"Possible reasons:\")\n",
    "            print(\"  1. The manual lookup table `single_error_syndrome_map_ideal` is incomplete or incorrect due to non-unique syndromes from the specific stabilizer definitions used.\")\n",
    "            print(\"  2. The error introduced was NOT a single X, Y, or Z Pauli error (not applicable here).\")\n",
    "            print(\"  3. An error exists in the stabilizer measurement circuit logic.\")\n",
    "        else:\n",
    "            # Try to extract error type and qubit from the description string\n",
    "            parts = decoding_result.split()\n",
    "            try:\n",
    "                identified_error_type = parts[0] # Should be 'X', 'Y', or 'Z'\n",
    "                identified_qubit_index = int(parts[-1].replace('(Ideal)', '').replace('(Placeholder', '')) # Extract number\n",
    "                \n",
    "                print(f\"The decoder identified the error as: {decoding_result}\")\n",
    "                print(\"Since d=3 can correct any single-qubit error, this syndrome *should* uniquely identify the error location and type (assuming a correct map).\")\n",
    "                print(f\"Correction: Apply {identified_error_type} gate to data qubit {identified_qubit_index}.\")\n",
    "            except (IndexError, ValueError):\n",
    "                 print(f\"Decoder output was '{decoding_result}', but couldn't parse error type/qubit index.\")"
   ]
  },
  {
   "cell_type": "code",
   "execution_count": null,
   "metadata": {},
   "outputs": [],
   "source": []
  }
 ],
 "metadata": {
  "kernelspec": {
   "display_name": "Python 3",
   "language": "python",
   "name": "python3"
  },
  "language_info": {
   "codemirror_mode": {
    "name": "ipython",
    "version": 3
   },
   "file_extension": ".py",
   "mimetype": "text/x-python",
   "name": "python",
   "nbconvert_exporter": "python",
   "pygments_lexer": "ipython3",
   "version": "3.11.0"
  }
 },
 "nbformat": 4,
 "nbformat_minor": 2
}
