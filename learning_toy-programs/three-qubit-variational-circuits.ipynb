{
 "cells": [
  {
   "cell_type": "code",
   "execution_count": 1,
   "metadata": {},
   "outputs": [],
   "source": [
    "from qiskit import QuantumCircuit\n",
    "from qiskit_aer import AerSimulator\n",
    "import numpy as np\n",
    "from scipy.optimize import minimize\n",
    "import matplotlib.pyplot as plt"
   ]
  },
  {
   "cell_type": "code",
   "execution_count": 2,
   "metadata": {},
   "outputs": [],
   "source": [
    "# Dataset: [x₁, x₂, x₃], label\n",
    "data = [\n",
    "    ([0.1, 0.2, 0.3], 0),\n",
    "    ([0.2, 0.1, 0.2], 0),\n",
    "    ([0.3, 0.3, 0.1], 0),\n",
    "    ([0.7, 0.8, 0.9], 1),\n",
    "    ([0.8, 0.7, 0.8], 1),\n",
    "    ([0.9, 0.9, 0.7], 1)\n",
    "]"
   ]
  },
  {
   "cell_type": "code",
   "execution_count": 17,
   "metadata": {},
   "outputs": [],
   "source": [
    "# Define the VQC with 2 layers\n",
    "def create_vqc(features, params):\n",
    "    qc = QuantumCircuit(3, 1)  # 3 qubits, 1 classical bit\n",
    "    # Data encoding\n",
    "    qc.ry(features[0] * np.pi, 0)\n",
    "    qc.ry(features[1] * np.pi, 1)\n",
    "    qc.ry(features[2] * np.pi, 2)\n",
    "    # Layer 1\n",
    "    qc.ry(params[0], 0)  # θ₁\n",
    "    qc.ry(params[1], 1)  # θ₂\n",
    "    qc.ry(params[2], 2)  # θ₃\n",
    "    # qc.cx(0, 1)\n",
    "    # qc.cx(1, 2)\n",
    "    # Layer 2\n",
    "    # qc.ry(params[3], 0)  # θ₄\n",
    "    # qc.ry(params[4], 1)  # θ₅\n",
    "    # qc.ry(params[5], 2)  # θ₆\n",
    "    # qc.cx(0, 1)\n",
    "    # qc.cx(1, 2)\n",
    "    # Measure q0\n",
    "    qc.measure(0, 0)\n",
    "    return qc"
   ]
  },
  {
   "cell_type": "code",
   "execution_count": 4,
   "metadata": {},
   "outputs": [],
   "source": [
    "# Simulate the circuit\n",
    "def run_circuit(features, params, shots=1024):\n",
    "    qc = create_vqc(features, params)\n",
    "    simulator = AerSimulator()\n",
    "    job = simulator.run(qc, shots=shots)\n",
    "    result = job.result()\n",
    "    counts = result.get_counts()\n",
    "    prob_0 = counts.get('0', 0) / shots  # P(|0⟩) for q0\n",
    "    return prob_0"
   ]
  },
  {
   "cell_type": "code",
   "execution_count": 5,
   "metadata": {},
   "outputs": [],
   "source": [
    "# Cost function\n",
    "def cost_function(params):\n",
    "    total_cost = 0\n",
    "    for features, label in data:\n",
    "        prob_0 = run_circuit(features, params)\n",
    "        target_prob = 1.0 if label == 0 else 0.0\n",
    "        total_cost += (prob_0 - target_prob) ** 2\n",
    "    return total_cost / len(data)"
   ]
  },
  {
   "cell_type": "code",
   "execution_count": 18,
   "metadata": {},
   "outputs": [
    {
     "name": "stdout",
     "output_type": "stream",
     "text": [
      "Initial parameters: [0.95528593 1.60704984 3.09908246 3.13943764 3.00864309 1.7715846 ]\n",
      "Optimized parameters: [2.34379873e-04 1.34299183e+00 2.82457457e+00 3.10224662e+00\n",
      " 2.97384260e+00 2.79644203e+00]\n",
      "Final cost: 0.017190\n"
     ]
    }
   ],
   "source": [
    "# Optimize\n",
    "initial_params = np.random.uniform(0, np.pi, 6)  # Random initial θ₁ to θ₆\n",
    "print(f\"Initial parameters: {initial_params}\")\n",
    "result = minimize(cost_function, initial_params, method='COBYLA', tol=1e-6)\n",
    "optimal_params = result.x\n",
    "print(f\"Optimized parameters: {optimal_params}\")\n",
    "print(f\"Final cost: {result.fun:.6f}\")"
   ]
  },
  {
   "cell_type": "code",
   "execution_count": 20,
   "metadata": {},
   "outputs": [
    {
     "name": "stdout",
     "output_type": "stream",
     "text": [
      "Features: [0.1, 0.2, 0.3], True Label: 0, P(|0⟩): 0.9756, Predicted: 0\n",
      "Features: [0.2, 0.1, 0.2], True Label: 0, P(|0⟩): 0.8965, Predicted: 0\n",
      "Features: [0.3, 0.3, 0.1], True Label: 0, P(|0⟩): 0.7773, Predicted: 0\n",
      "Features: [0.7, 0.8, 0.9], True Label: 1, P(|0⟩): 0.1963, Predicted: 1\n",
      "Features: [0.8, 0.7, 0.8], True Label: 1, P(|0⟩): 0.0938, Predicted: 1\n",
      "Features: [0.9, 0.9, 0.7], True Label: 1, P(|0⟩): 0.0156, Predicted: 1\n"
     ]
    }
   ],
   "source": [
    "# Test the trained circuit\n",
    "for features, label in data:\n",
    "    prob_0 = run_circuit(features, optimal_params)\n",
    "    prediction = 1 if prob_0 < 0.5 else 0\n",
    "    print(f\"Features: {features}, True Label: {label}, P(|0⟩): {prob_0:.4f}, Predicted: {prediction}\")"
   ]
  },
  {
   "cell_type": "code",
   "execution_count": null,
   "metadata": {},
   "outputs": [],
   "source": []
  },
  {
   "cell_type": "code",
   "execution_count": null,
   "metadata": {},
   "outputs": [],
   "source": []
  }
 ],
 "metadata": {
  "kernelspec": {
   "display_name": "Python 3",
   "language": "python",
   "name": "python3"
  },
  "language_info": {
   "codemirror_mode": {
    "name": "ipython",
    "version": 3
   },
   "file_extension": ".py",
   "mimetype": "text/x-python",
   "name": "python",
   "nbconvert_exporter": "python",
   "pygments_lexer": "ipython3",
   "version": "3.11.0"
  }
 },
 "nbformat": 4,
 "nbformat_minor": 2
}
