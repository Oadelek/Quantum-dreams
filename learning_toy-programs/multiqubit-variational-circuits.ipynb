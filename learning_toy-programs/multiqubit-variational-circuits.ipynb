{
 "cells": [
  {
   "cell_type": "code",
   "execution_count": 1,
   "metadata": {},
   "outputs": [],
   "source": [
    "from qiskit import QuantumCircuit\n",
    "from qiskit_aer import AerSimulator\n",
    "import numpy as np\n",
    "from scipy.optimize import minimize\n",
    "import matplotlib.pyplot as plt"
   ]
  },
  {
   "cell_type": "code",
   "execution_count": 36,
   "metadata": {},
   "outputs": [],
   "source": [
    "# Toy dataset: [x₁, x₂], label\n",
    "data = [\n",
    "    ([0.2, 0.4], 0),\n",
    "    ([0.3, 0.4], 0),\n",
    "    ([0.6, 0.5], 1),\n",
    "    ([0.6, 0.7], 1)\n",
    "]"
   ]
  },
  {
   "cell_type": "code",
   "execution_count": 30,
   "metadata": {},
   "outputs": [],
   "source": [
    "# Define the VQC\n",
    "def create_vqc(features, params):\n",
    "    qc = QuantumCircuit(2, 1)  # 2 qubits, 1 classical bit\n",
    "    # Data encoding\n",
    "    qc.ry(features[0] * np.pi, 0)  # Scale x₁ to [0, π]\n",
    "    qc.ry(features[1] * np.pi, 1)  # Scale x₂ to [0, π]\n",
    "    # Ansatz\n",
    "    qc.cx(0, 1)  # Entangle q0 (control) and q1 (target)\n",
    "    qc.ry(params[0], 0)  # Variational parameter θ₁\n",
    "    qc.ry(params[1], 1)  # Variational parameter θ₂\n",
    "    # Measure qubit 0\n",
    "    qc.measure(0, 0)\n",
    "    return qc"
   ]
  },
  {
   "cell_type": "code",
   "execution_count": 31,
   "metadata": {},
   "outputs": [],
   "source": [
    "# Simulate the circuit\n",
    "def run_circuit(features, params, shots=1024):\n",
    "    qc = create_vqc(features, params)\n",
    "    simulator = AerSimulator()\n",
    "    job = simulator.run(qc, shots=shots)\n",
    "    result = job.result()\n",
    "    counts = result.get_counts()\n",
    "    prob_0 = counts.get('0', 0) / shots  # P(|0⟩) for qubit 0\n",
    "    prob_1 = counts.get('1', 1) / shots\n",
    "    return prob_0, prob_1"
   ]
  },
  {
   "cell_type": "code",
   "execution_count": 32,
   "metadata": {},
   "outputs": [],
   "source": [
    "# Cost function: Minimize difference between P(|0⟩) and target probability\n",
    "def cost_function(params):\n",
    "    total_cost = 0\n",
    "    for features, label in data:\n",
    "        prob_0, prob_1 = run_circuit(features, params)\n",
    "        # Target: P(|0⟩) = 1 for label 0, P(|0⟩) = 0 for label 1\n",
    "        target_prob = 1.0 if label == 0 else 0.0\n",
    "        total_cost += (prob_0 - target_prob) ** 2\n",
    "    return total_cost / len(data)  # Average cost"
   ]
  },
  {
   "cell_type": "code",
   "execution_count": 37,
   "metadata": {},
   "outputs": [
    {
     "name": "stdout",
     "output_type": "stream",
     "text": [
      "Optimized parameters: θ₁ = 6.5496, θ₂ = 2.6566\n",
      "Final cost: 0.063167\n"
     ]
    }
   ],
   "source": [
    "# Optimize\n",
    "initial_params = [np.pi, np.pi]  # Start with non-zero values to force optimization\n",
    "result = minimize(cost_function, initial_params, method='COBYLA', tol=1e-6)\n",
    "optimal_params = result.x\n",
    "print(f\"Optimized parameters: θ₁ = {optimal_params[0]:.4f}, θ₂ = {optimal_params[1]:.4f}\")\n",
    "print(f\"Final cost: {result.fun:.6f}\")"
   ]
  },
  {
   "cell_type": "code",
   "execution_count": 38,
   "metadata": {},
   "outputs": [
    {
     "name": "stdout",
     "output_type": "stream",
     "text": [
      "Features: [0.2, 0.4], True Label: 0, P(|0⟩): 0.8262, Predicted: 0\n",
      "Features: [0.3, 0.4], True Label: 0, P(|0⟩): 0.6758, Predicted: 0\n",
      "Features: [0.6, 0.5], True Label: 1, P(|0⟩): 0.2178, Predicted: 1\n",
      "Features: [0.6, 0.7], True Label: 1, P(|0⟩): 0.2549, Predicted: 1\n"
     ]
    }
   ],
   "source": [
    "# Test the trained circuit\n",
    "for features, label in data:\n",
    "    prob_0 = run_circuit(features, optimal_params)\n",
    "    prediction = 1 if prob_0 < 0.5 else 0\n",
    "    print(f\"Features: {features}, True Label: {label}, P(|0⟩): {prob_0:.4f}, Predicted: {prediction}\")"
   ]
  },
  {
   "cell_type": "code",
   "execution_count": 35,
   "metadata": {},
   "outputs": [
    {
     "data": {
      "image/png": "[encoded data removed]",
      "text/plain": [
       "<Figure size 640x480 with 1 Axes>"
      ]
     },
     "metadata": {},
     "output_type": "display_data"
    }
   ],
   "source": [
    "# Visualize decision boundary\n",
    "def plot_decision_boundary(params):\n",
    "    x = np.linspace(0, 1, 20)\n",
    "    y = np.linspace(0, 1, 20)\n",
    "    X, Y = np.meshgrid(x, y)\n",
    "    Z = np.zeros_like(X)\n",
    "    for i in range(X.shape[0]):\n",
    "        for j in range(X.shape[1]):\n",
    "            prob_0 = run_circuit([X[i, j], Y[i, j]], params)\n",
    "            Z[i, j] = 0 if prob_0 > 0.5 else 1\n",
    "    plt.contourf(X, Y, Z, cmap='RdBu', alpha=0.5)\n",
    "    for features, label in data:\n",
    "        plt.scatter(features[0], features[1], c='black' if label == 0 else 'white', edgecolors='k')\n",
    "    plt.xlabel('x₁')\n",
    "    plt.ylabel('x₂')\n",
    "    plt.title('Decision Boundary')\n",
    "    plt.show()\n",
    "\n",
    "plot_decision_boundary(optimal_params)"
   ]
  },
  {
   "cell_type": "code",
   "execution_count": null,
   "metadata": {},
   "outputs": [],
   "source": []
  }
 ],
 "metadata": {
  "kernelspec": {
   "display_name": "Python 3",
   "language": "python",
   "name": "python3"
  },
  "language_info": {
   "codemirror_mode": {
    "name": "ipython",
    "version": 3
   },
   "file_extension": ".py",
   "mimetype": "text/x-python",
   "name": "python",
   "nbconvert_exporter": "python",
   "pygments_lexer": "ipython3",
   "version": "3.11.0"
  }
 },
 "nbformat": 4,
 "nbformat_minor": 2
}
